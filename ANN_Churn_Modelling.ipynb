{
  "nbformat": 4,
  "nbformat_minor": 0,
  "metadata": {
    "colab": {
      "name": "ANN_Churn_Modelling.ipynb",
      "provenance": [],
      "authorship_tag": "ABX9TyNMURZlbyJiyW7UB+ULCPQq",
      "include_colab_link": true
    },
    "kernelspec": {
      "name": "python3",
      "display_name": "Python 3"
    },
    "language_info": {
      "name": "python"
    }
  },
  "cells": [
    {
      "cell_type": "markdown",
      "metadata": {
        "id": "view-in-github",
        "colab_type": "text"
      },
      "source": [
        "<a href=\"https://colab.research.google.com/github/Gagankhera/Forsk_Projects/blob/main/ANN_Churn_Modelling.ipynb\" target=\"_parent\"><img src=\"https://colab.research.google.com/assets/colab-badge.svg\" alt=\"Open In Colab\"/></a>"
      ]
    },
    {
      "cell_type": "code",
      "metadata": {
        "id": "pevngLgfY1t0"
      },
      "source": [
        ""
      ],
      "execution_count": null,
      "outputs": []
    },
    {
      "cell_type": "code",
      "metadata": {
        "colab": {
          "base_uri": "https://localhost:8080/"
        },
        "id": "g3vvfE35aW2S",
        "outputId": "32da2f39-110d-4427-ac7b-229231c02b2d"
      },
      "source": [
        "from google.colab import drive\n",
        "drive.mount('/gdrive')"
      ],
      "execution_count": null,
      "outputs": [
        {
          "output_type": "stream",
          "text": [
            "Mounted at /gdrive\n"
          ],
          "name": "stdout"
        }
      ]
    },
    {
      "cell_type": "code",
      "metadata": {
        "id": "1E0z52FfaW2W",
        "colab": {
          "base_uri": "https://localhost:8080/"
        },
        "outputId": "ea68b10f-9dac-43ed-f2c0-8eccf3f5b4f3"
      },
      "source": [
        "with open('/gdrive/My Drive/foo.txt', 'w') as f:\n",
        "  f.write('Hello Google Drive!')\n",
        "!cat '/gdrive/My Drive/foo.txt'"
      ],
      "execution_count": null,
      "outputs": [
        {
          "output_type": "stream",
          "text": [
            "Hello Google Drive!"
          ],
          "name": "stdout"
        }
      ]
    },
    {
      "cell_type": "code",
      "metadata": {
        "colab": {
          "base_uri": "https://localhost:8080/"
        },
        "id": "wBUMkxqRanlI",
        "outputId": "32e5a021-1a3f-4a4d-9431-f1131a69e6cd"
      },
      "source": [
        "import os\n",
        "os.getcwd"
      ],
      "execution_count": null,
      "outputs": [
        {
          "output_type": "execute_result",
          "data": {
            "text/plain": [
              "<function posix.getcwd>"
            ]
          },
          "metadata": {
            "tags": []
          },
          "execution_count": 2
        }
      ]
    },
    {
      "cell_type": "code",
      "metadata": {
        "id": "OORgaLUja5uS"
      },
      "source": [
        "os.chdir(\"/gdrive/My Drive/Deep_Learning\")"
      ],
      "execution_count": null,
      "outputs": []
    },
    {
      "cell_type": "code",
      "metadata": {
        "id": "1j5MruG9bU-p"
      },
      "source": [
        "import pandas as pd\n",
        "import numpy as np\n",
        "import matplotlib.pyplot as plt\n",
        "df = pd.read_csv(\"Churn_Modelling.csv\")"
      ],
      "execution_count": null,
      "outputs": []
    },
    {
      "cell_type": "code",
      "metadata": {
        "colab": {
          "base_uri": "https://localhost:8080/"
        },
        "id": "LcZooBA6bohI",
        "outputId": "07caa887-21f6-4301-95c2-91dc13e49a1e"
      },
      "source": [
        "df.shape"
      ],
      "execution_count": null,
      "outputs": [
        {
          "output_type": "execute_result",
          "data": {
            "text/plain": [
              "(10000, 14)"
            ]
          },
          "metadata": {
            "tags": []
          },
          "execution_count": 6
        }
      ]
    },
    {
      "cell_type": "code",
      "metadata": {
        "colab": {
          "base_uri": "https://localhost:8080/",
          "height": 203
        },
        "id": "mFmXyE0vbjeZ",
        "outputId": "3861e669-c698-4198-e4bf-e45cd5b2f47c"
      },
      "source": [
        "df.head()"
      ],
      "execution_count": null,
      "outputs": [
        {
          "output_type": "execute_result",
          "data": {
            "text/html": [
              "<div>\n",
              "<style scoped>\n",
              "    .dataframe tbody tr th:only-of-type {\n",
              "        vertical-align: middle;\n",
              "    }\n",
              "\n",
              "    .dataframe tbody tr th {\n",
              "        vertical-align: top;\n",
              "    }\n",
              "\n",
              "    .dataframe thead th {\n",
              "        text-align: right;\n",
              "    }\n",
              "</style>\n",
              "<table border=\"1\" class=\"dataframe\">\n",
              "  <thead>\n",
              "    <tr style=\"text-align: right;\">\n",
              "      <th></th>\n",
              "      <th>RowNumber</th>\n",
              "      <th>CustomerId</th>\n",
              "      <th>Surname</th>\n",
              "      <th>CreditScore</th>\n",
              "      <th>Geography</th>\n",
              "      <th>Gender</th>\n",
              "      <th>Age</th>\n",
              "      <th>Tenure</th>\n",
              "      <th>Balance</th>\n",
              "      <th>NumOfProducts</th>\n",
              "      <th>HasCrCard</th>\n",
              "      <th>IsActiveMember</th>\n",
              "      <th>EstimatedSalary</th>\n",
              "      <th>Exited</th>\n",
              "    </tr>\n",
              "  </thead>\n",
              "  <tbody>\n",
              "    <tr>\n",
              "      <th>0</th>\n",
              "      <td>1</td>\n",
              "      <td>15634602</td>\n",
              "      <td>Hargrave</td>\n",
              "      <td>619</td>\n",
              "      <td>France</td>\n",
              "      <td>Female</td>\n",
              "      <td>42</td>\n",
              "      <td>2</td>\n",
              "      <td>0.00</td>\n",
              "      <td>1</td>\n",
              "      <td>1</td>\n",
              "      <td>1</td>\n",
              "      <td>101348.88</td>\n",
              "      <td>1</td>\n",
              "    </tr>\n",
              "    <tr>\n",
              "      <th>1</th>\n",
              "      <td>2</td>\n",
              "      <td>15647311</td>\n",
              "      <td>Hill</td>\n",
              "      <td>608</td>\n",
              "      <td>Spain</td>\n",
              "      <td>Female</td>\n",
              "      <td>41</td>\n",
              "      <td>1</td>\n",
              "      <td>83807.86</td>\n",
              "      <td>1</td>\n",
              "      <td>0</td>\n",
              "      <td>1</td>\n",
              "      <td>112542.58</td>\n",
              "      <td>0</td>\n",
              "    </tr>\n",
              "    <tr>\n",
              "      <th>2</th>\n",
              "      <td>3</td>\n",
              "      <td>15619304</td>\n",
              "      <td>Onio</td>\n",
              "      <td>502</td>\n",
              "      <td>France</td>\n",
              "      <td>Female</td>\n",
              "      <td>42</td>\n",
              "      <td>8</td>\n",
              "      <td>159660.80</td>\n",
              "      <td>3</td>\n",
              "      <td>1</td>\n",
              "      <td>0</td>\n",
              "      <td>113931.57</td>\n",
              "      <td>1</td>\n",
              "    </tr>\n",
              "    <tr>\n",
              "      <th>3</th>\n",
              "      <td>4</td>\n",
              "      <td>15701354</td>\n",
              "      <td>Boni</td>\n",
              "      <td>699</td>\n",
              "      <td>France</td>\n",
              "      <td>Female</td>\n",
              "      <td>39</td>\n",
              "      <td>1</td>\n",
              "      <td>0.00</td>\n",
              "      <td>2</td>\n",
              "      <td>0</td>\n",
              "      <td>0</td>\n",
              "      <td>93826.63</td>\n",
              "      <td>0</td>\n",
              "    </tr>\n",
              "    <tr>\n",
              "      <th>4</th>\n",
              "      <td>5</td>\n",
              "      <td>15737888</td>\n",
              "      <td>Mitchell</td>\n",
              "      <td>850</td>\n",
              "      <td>Spain</td>\n",
              "      <td>Female</td>\n",
              "      <td>43</td>\n",
              "      <td>2</td>\n",
              "      <td>125510.82</td>\n",
              "      <td>1</td>\n",
              "      <td>1</td>\n",
              "      <td>1</td>\n",
              "      <td>79084.10</td>\n",
              "      <td>0</td>\n",
              "    </tr>\n",
              "  </tbody>\n",
              "</table>\n",
              "</div>"
            ],
            "text/plain": [
              "   RowNumber  CustomerId   Surname  ...  IsActiveMember EstimatedSalary Exited\n",
              "0          1    15634602  Hargrave  ...               1       101348.88      1\n",
              "1          2    15647311      Hill  ...               1       112542.58      0\n",
              "2          3    15619304      Onio  ...               0       113931.57      1\n",
              "3          4    15701354      Boni  ...               0        93826.63      0\n",
              "4          5    15737888  Mitchell  ...               1        79084.10      0\n",
              "\n",
              "[5 rows x 14 columns]"
            ]
          },
          "metadata": {
            "tags": []
          },
          "execution_count": 7
        }
      ]
    },
    {
      "cell_type": "code",
      "metadata": {
        "colab": {
          "base_uri": "https://localhost:8080/"
        },
        "id": "VQJrNa7Rb01n",
        "outputId": "f6ea4410-e950-4484-cc8a-5e00e56296b6"
      },
      "source": [
        "df['Geography'].unique()"
      ],
      "execution_count": null,
      "outputs": [
        {
          "output_type": "execute_result",
          "data": {
            "text/plain": [
              "array(['France', 'Spain', 'Germany'], dtype=object)"
            ]
          },
          "metadata": {
            "tags": []
          },
          "execution_count": 8
        }
      ]
    },
    {
      "cell_type": "markdown",
      "metadata": {
        "id": "Pmu9WnLVc7NC"
      },
      "source": [
        "Separating out features and labels\n",
        "# Leaving out Rowno, Custid and surname from features as they are #system generated"
      ]
    },
    {
      "cell_type": "code",
      "metadata": {
        "id": "rvX0b2oucDdL"
      },
      "source": [
        "features = df.iloc[:,3:13].values\n",
        "labels = df.iloc[:,13].values"
      ],
      "execution_count": null,
      "outputs": []
    },
    {
      "cell_type": "code",
      "metadata": {
        "colab": {
          "base_uri": "https://localhost:8080/"
        },
        "id": "H7-v8vg0bLN3",
        "outputId": "e2e37653-a36c-492a-c6fe-1f961f8b15e4"
      },
      "source": [
        "df.dtypes"
      ],
      "execution_count": null,
      "outputs": [
        {
          "output_type": "execute_result",
          "data": {
            "text/plain": [
              "RowNumber            int64\n",
              "CustomerId           int64\n",
              "Surname             object\n",
              "CreditScore          int64\n",
              "Geography           object\n",
              "Gender              object\n",
              "Age                  int64\n",
              "Tenure               int64\n",
              "Balance            float64\n",
              "NumOfProducts        int64\n",
              "HasCrCard            int64\n",
              "IsActiveMember       int64\n",
              "EstimatedSalary    float64\n",
              "Exited               int64\n",
              "dtype: object"
            ]
          },
          "metadata": {
            "tags": []
          },
          "execution_count": 10
        }
      ]
    },
    {
      "cell_type": "code",
      "metadata": {
        "colab": {
          "base_uri": "https://localhost:8080/"
        },
        "id": "EVYy7tXZgMHd",
        "outputId": "b0f41b47-e5e8-4024-f311-99ebdbb255cb"
      },
      "source": [
        "features"
      ],
      "execution_count": null,
      "outputs": [
        {
          "output_type": "execute_result",
          "data": {
            "text/plain": [
              "array([[619, 'France', 'Female', ..., 1, 1, 101348.88],\n",
              "       [608, 'Spain', 'Female', ..., 0, 1, 112542.58],\n",
              "       [502, 'France', 'Female', ..., 1, 0, 113931.57],\n",
              "       ...,\n",
              "       [709, 'France', 'Female', ..., 0, 1, 42085.58],\n",
              "       [772, 'Germany', 'Male', ..., 1, 0, 92888.52],\n",
              "       [792, 'France', 'Female', ..., 1, 0, 38190.78]], dtype=object)"
            ]
          },
          "metadata": {
            "tags": []
          },
          "execution_count": 11
        }
      ]
    },
    {
      "cell_type": "code",
      "metadata": {
        "colab": {
          "base_uri": "https://localhost:8080/"
        },
        "id": "YirKxGLQgLsp",
        "outputId": "50c625ca-b9cf-4ed3-dfba-7f3a41485fbe"
      },
      "source": [
        "labels"
      ],
      "execution_count": null,
      "outputs": [
        {
          "output_type": "execute_result",
          "data": {
            "text/plain": [
              "array([1, 0, 1, ..., 1, 1, 0])"
            ]
          },
          "metadata": {
            "tags": []
          },
          "execution_count": 12
        }
      ]
    },
    {
      "cell_type": "code",
      "metadata": {
        "id": "9lPUVlTjdLeu"
      },
      "source": [
        "# so here in our features, Geography and Gender are Categorical data, so perfoming oneHotEncodeing"
      ],
      "execution_count": null,
      "outputs": []
    },
    {
      "cell_type": "code",
      "metadata": {
        "id": "VlWEOZUYdJzC"
      },
      "source": [
        "from sklearn.preprocessing import OneHotEncoder\n",
        "from sklearn.compose import ColumnTransformer"
      ],
      "execution_count": null,
      "outputs": []
    },
    {
      "cell_type": "code",
      "metadata": {
        "id": "KKM3FyEhdlJ6"
      },
      "source": [
        "cT = ColumnTransformer([('encoder', OneHotEncoder(), [1,2])], remainder='passthrough')\n",
        "\n",
        "features = np.array(cT.fit_transform(features), dtype = np.float32)"
      ],
      "execution_count": null,
      "outputs": []
    },
    {
      "cell_type": "code",
      "metadata": {
        "colab": {
          "base_uri": "https://localhost:8080/"
        },
        "id": "D13JpOLAd-JD",
        "outputId": "4f05c315-3acb-4f87-9425-6a52ca9a4d81"
      },
      "source": [
        "features[0:10,:]\n",
        "\n"
      ],
      "execution_count": null,
      "outputs": [
        {
          "output_type": "execute_result",
          "data": {
            "text/plain": [
              "array([[1.0000000e+00, 0.0000000e+00, 0.0000000e+00, 1.0000000e+00,\n",
              "        0.0000000e+00, 6.1900000e+02, 4.2000000e+01, 2.0000000e+00,\n",
              "        0.0000000e+00, 1.0000000e+00, 1.0000000e+00, 1.0000000e+00,\n",
              "        1.0134888e+05],\n",
              "       [0.0000000e+00, 0.0000000e+00, 1.0000000e+00, 1.0000000e+00,\n",
              "        0.0000000e+00, 6.0800000e+02, 4.1000000e+01, 1.0000000e+00,\n",
              "        8.3807859e+04, 1.0000000e+00, 0.0000000e+00, 1.0000000e+00,\n",
              "        1.1254258e+05],\n",
              "       [1.0000000e+00, 0.0000000e+00, 0.0000000e+00, 1.0000000e+00,\n",
              "        0.0000000e+00, 5.0200000e+02, 4.2000000e+01, 8.0000000e+00,\n",
              "        1.5966080e+05, 3.0000000e+00, 1.0000000e+00, 0.0000000e+00,\n",
              "        1.1393157e+05],\n",
              "       [1.0000000e+00, 0.0000000e+00, 0.0000000e+00, 1.0000000e+00,\n",
              "        0.0000000e+00, 6.9900000e+02, 3.9000000e+01, 1.0000000e+00,\n",
              "        0.0000000e+00, 2.0000000e+00, 0.0000000e+00, 0.0000000e+00,\n",
              "        9.3826633e+04],\n",
              "       [0.0000000e+00, 0.0000000e+00, 1.0000000e+00, 1.0000000e+00,\n",
              "        0.0000000e+00, 8.5000000e+02, 4.3000000e+01, 2.0000000e+00,\n",
              "        1.2551082e+05, 1.0000000e+00, 1.0000000e+00, 1.0000000e+00,\n",
              "        7.9084102e+04],\n",
              "       [0.0000000e+00, 0.0000000e+00, 1.0000000e+00, 0.0000000e+00,\n",
              "        1.0000000e+00, 6.4500000e+02, 4.4000000e+01, 8.0000000e+00,\n",
              "        1.1375578e+05, 2.0000000e+00, 1.0000000e+00, 0.0000000e+00,\n",
              "        1.4975670e+05],\n",
              "       [1.0000000e+00, 0.0000000e+00, 0.0000000e+00, 0.0000000e+00,\n",
              "        1.0000000e+00, 8.2200000e+02, 5.0000000e+01, 7.0000000e+00,\n",
              "        0.0000000e+00, 2.0000000e+00, 1.0000000e+00, 1.0000000e+00,\n",
              "        1.0062800e+04],\n",
              "       [0.0000000e+00, 1.0000000e+00, 0.0000000e+00, 1.0000000e+00,\n",
              "        0.0000000e+00, 3.7600000e+02, 2.9000000e+01, 4.0000000e+00,\n",
              "        1.1504674e+05, 4.0000000e+00, 1.0000000e+00, 0.0000000e+00,\n",
              "        1.1934688e+05],\n",
              "       [1.0000000e+00, 0.0000000e+00, 0.0000000e+00, 0.0000000e+00,\n",
              "        1.0000000e+00, 5.0100000e+02, 4.4000000e+01, 4.0000000e+00,\n",
              "        1.4205106e+05, 2.0000000e+00, 0.0000000e+00, 1.0000000e+00,\n",
              "        7.4940500e+04],\n",
              "       [1.0000000e+00, 0.0000000e+00, 0.0000000e+00, 0.0000000e+00,\n",
              "        1.0000000e+00, 6.8400000e+02, 2.7000000e+01, 2.0000000e+00,\n",
              "        1.3460388e+05, 1.0000000e+00, 1.0000000e+00, 1.0000000e+00,\n",
              "        7.1725727e+04]], dtype=float32)"
            ]
          },
          "metadata": {
            "tags": []
          },
          "execution_count": 16
        }
      ]
    },
    {
      "cell_type": "code",
      "metadata": {
        "colab": {
          "base_uri": "https://localhost:8080/"
        },
        "id": "nkVnr-xRez_N",
        "outputId": "ae58a715-1233-4878-fb83-3a2350eeee5b"
      },
      "source": [
        "features = features[:, 1:] #drop the first dummy column for Geography\n",
        "\n",
        "features[0]\n"
      ],
      "execution_count": null,
      "outputs": [
        {
          "output_type": "execute_result",
          "data": {
            "text/plain": [
              "array([0.0000000e+00, 0.0000000e+00, 1.0000000e+00, 0.0000000e+00,\n",
              "       6.1900000e+02, 4.2000000e+01, 2.0000000e+00, 0.0000000e+00,\n",
              "       1.0000000e+00, 1.0000000e+00, 1.0000000e+00, 1.0134888e+05],\n",
              "      dtype=float32)"
            ]
          },
          "metadata": {
            "tags": []
          },
          "execution_count": 17
        }
      ]
    },
    {
      "cell_type": "code",
      "metadata": {
        "colab": {
          "base_uri": "https://localhost:8080/"
        },
        "id": "2kNWHGYqeySl",
        "outputId": "47874495-aa28-4407-a12d-5e11d696b23e"
      },
      "source": [
        "features = features[:, [0,1,3,4,5,6,7,8,9,10,11]] #drop the column for Gender\n",
        "\n",
        "features.shape\n",
        "\n",
        "features[0,:]"
      ],
      "execution_count": null,
      "outputs": [
        {
          "output_type": "execute_result",
          "data": {
            "text/plain": [
              "array([0.0000000e+00, 0.0000000e+00, 0.0000000e+00, 6.1900000e+02,\n",
              "       4.2000000e+01, 2.0000000e+00, 0.0000000e+00, 1.0000000e+00,\n",
              "       1.0000000e+00, 1.0000000e+00, 1.0134888e+05], dtype=float32)"
            ]
          },
          "metadata": {
            "tags": []
          },
          "execution_count": 18
        }
      ]
    },
    {
      "cell_type": "code",
      "metadata": {
        "colab": {
          "base_uri": "https://localhost:8080/"
        },
        "id": "KB4qTTBLdE6e",
        "outputId": "fc140ffa-dbb9-4eea-a474-d13fb14a9034"
      },
      "source": [
        "features.shape"
      ],
      "execution_count": null,
      "outputs": [
        {
          "output_type": "execute_result",
          "data": {
            "text/plain": [
              "(10000, 11)"
            ]
          },
          "metadata": {
            "tags": []
          },
          "execution_count": 19
        }
      ]
    },
    {
      "cell_type": "code",
      "metadata": {
        "id": "Ss56Zbc_gFA3"
      },
      "source": [
        "from sklearn.model_selection import train_test_split\n",
        "features_train, features_test, labels_train, labels_test = train_test_split(features, labels, test_size = 0.2, random_state = 0)\n"
      ],
      "execution_count": null,
      "outputs": []
    },
    {
      "cell_type": "code",
      "metadata": {
        "colab": {
          "base_uri": "https://localhost:8080/"
        },
        "id": "uSyPeQ1udBPx",
        "outputId": "e911628c-5a2f-4e49-f93b-a12b714414a3"
      },
      "source": [
        "\n",
        "features[0]"
      ],
      "execution_count": null,
      "outputs": [
        {
          "output_type": "execute_result",
          "data": {
            "text/plain": [
              "array([0.0000000e+00, 0.0000000e+00, 0.0000000e+00, 6.1900000e+02,\n",
              "       4.2000000e+01, 2.0000000e+00, 0.0000000e+00, 1.0000000e+00,\n",
              "       1.0000000e+00, 1.0000000e+00, 1.0134888e+05], dtype=float32)"
            ]
          },
          "metadata": {
            "tags": []
          },
          "execution_count": 21
        }
      ]
    },
    {
      "cell_type": "markdown",
      "metadata": {
        "id": "pXStHLu2aQOH"
      },
      "source": [
        ""
      ]
    },
    {
      "cell_type": "code",
      "metadata": {
        "id": "uW4ti-2RgZdH"
      },
      "source": [
        "from sklearn.preprocessing import StandardScaler\n",
        "sc = StandardScaler()\n",
        "features_train = sc.fit_transform(features_train)\n",
        "features_test = sc.transform(features_test)"
      ],
      "execution_count": null,
      "outputs": []
    },
    {
      "cell_type": "code",
      "metadata": {
        "colab": {
          "base_uri": "https://localhost:8080/"
        },
        "id": "4vbnY-LmgbMk",
        "outputId": "c4709224-f893-48e7-8c5d-0e75691b47d7"
      },
      "source": [
        "features_train[0]"
      ],
      "execution_count": null,
      "outputs": [
        {
          "output_type": "execute_result",
          "data": {
            "text/plain": [
              "array([-0.56984437,  1.7430905 , -1.0916871 ,  0.16958177, -0.46460798,\n",
              "        0.00666099, -1.2157176 ,  0.8095029 ,  0.64259493, -1.0322704 ,\n",
              "        1.1064317 ], dtype=float32)"
            ]
          },
          "metadata": {
            "tags": []
          },
          "execution_count": 23
        }
      ]
    },
    {
      "cell_type": "code",
      "metadata": {
        "id": "dBpJT1bYge9J"
      },
      "source": [
        "# Importing the Keras libraries and packages\n",
        "import keras\n",
        "from keras.models import Sequential\n",
        "from keras.layers import Dense"
      ],
      "execution_count": null,
      "outputs": []
    },
    {
      "cell_type": "code",
      "metadata": {
        "id": "bInrXYwQaURT"
      },
      "source": [
        "classifier_model = Sequential()\n"
      ],
      "execution_count": null,
      "outputs": []
    },
    {
      "cell_type": "code",
      "metadata": {
        "colab": {
          "base_uri": "https://localhost:8080/"
        },
        "id": "nGkY8ZOJjvD9",
        "outputId": "83496e34-709b-46a1-f251-27b9441395ba"
      },
      "source": [
        "features.shape"
      ],
      "execution_count": null,
      "outputs": [
        {
          "output_type": "execute_result",
          "data": {
            "text/plain": [
              "(10000, 11)"
            ]
          },
          "metadata": {
            "tags": []
          },
          "execution_count": 50
        }
      ]
    },
    {
      "cell_type": "code",
      "metadata": {
        "id": "kUTf7nAWdgUL"
      },
      "source": [
        "#adding the first hidden layer\n",
        "classifier_model.add(Dense(units=6,kernel_initializer='uniform',activation='relu',input_dim = 11))"
      ],
      "execution_count": null,
      "outputs": []
    },
    {
      "cell_type": "code",
      "metadata": {
        "id": "ameVBhOHggJC"
      },
      "source": [
        "#adding the second hidden layer\n",
        "classifier_model.add(Dense(units=6,kernel_initializer='uniform',activation='relu'))\n"
      ],
      "execution_count": null,
      "outputs": []
    },
    {
      "cell_type": "code",
      "metadata": {
        "id": "khCp1-5ggqy6"
      },
      "source": [
        "#adding the output layer\n",
        "classifier_model.add(Dense(units=1,kernel_initializer='uniform',activation='sigmoid'))"
      ],
      "execution_count": null,
      "outputs": []
    },
    {
      "cell_type": "code",
      "metadata": {
        "id": "8wgi08VshCyn"
      },
      "source": [
        "#compiling th ANN\n",
        "classifier_model.compile(optimizer = 'adam',loss='binary_crossentropy',metrics = ['accuracy'])\n"
      ],
      "execution_count": null,
      "outputs": []
    },
    {
      "cell_type": "code",
      "metadata": {
        "colab": {
          "base_uri": "https://localhost:8080/"
        },
        "id": "MHDr_Zqghjr1",
        "outputId": "2e943591-e92e-4f04-eae2-7b4a9a769c5a"
      },
      "source": [
        "classifier_model.fit(features_train,labels_train,batch_size=20,epochs=10)"
      ],
      "execution_count": null,
      "outputs": [
        {
          "output_type": "stream",
          "text": [
            "Epoch 1/10\n",
            "400/400 [==============================] - 1s 2ms/step - loss: 0.4189 - accuracy: 0.7960\n",
            "Epoch 2/10\n",
            "400/400 [==============================] - 1s 2ms/step - loss: 0.4180 - accuracy: 0.7960\n",
            "Epoch 3/10\n",
            "400/400 [==============================] - 1s 2ms/step - loss: 0.4171 - accuracy: 0.7960\n",
            "Epoch 4/10\n",
            "400/400 [==============================] - 1s 2ms/step - loss: 0.4161 - accuracy: 0.8029\n",
            "Epoch 5/10\n",
            "400/400 [==============================] - 1s 2ms/step - loss: 0.4153 - accuracy: 0.8246\n",
            "Epoch 6/10\n",
            "400/400 [==============================] - 1s 2ms/step - loss: 0.4148 - accuracy: 0.8289\n",
            "Epoch 7/10\n",
            "400/400 [==============================] - 1s 2ms/step - loss: 0.4136 - accuracy: 0.8281\n",
            "Epoch 8/10\n",
            "400/400 [==============================] - 1s 2ms/step - loss: 0.4130 - accuracy: 0.8292\n",
            "Epoch 9/10\n",
            "400/400 [==============================] - 1s 2ms/step - loss: 0.4128 - accuracy: 0.8290\n",
            "Epoch 10/10\n",
            "400/400 [==============================] - 1s 2ms/step - loss: 0.4117 - accuracy: 0.8292\n"
          ],
          "name": "stdout"
        },
        {
          "output_type": "execute_result",
          "data": {
            "text/plain": [
              "<keras.callbacks.History at 0x7f9583405790>"
            ]
          },
          "metadata": {
            "tags": []
          },
          "execution_count": 51
        }
      ]
    },
    {
      "cell_type": "code",
      "metadata": {
        "colab": {
          "base_uri": "https://localhost:8080/"
        },
        "id": "Gwos8IYDhyOp",
        "outputId": "20c89a63-2242-43a3-8f67-c43092fb8d99"
      },
      "source": [
        "labels_pred = classifier_model.predict_classes(features_test)\n",
        "#labels_pred = (labels_pred > 0.5)"
      ],
      "execution_count": null,
      "outputs": [
        {
          "output_type": "stream",
          "text": [
            "/usr/local/lib/python3.7/dist-packages/keras/engine/sequential.py:450: UserWarning: `model.predict_classes()` is deprecated and will be removed after 2021-01-01. Please use instead:* `np.argmax(model.predict(x), axis=-1)`,   if your model does multi-class classification   (e.g. if it uses a `softmax` last-layer activation).* `(model.predict(x) > 0.5).astype(\"int32\")`,   if your model does binary classification   (e.g. if it uses a `sigmoid` last-layer activation).\n",
            "  warnings.warn('`model.predict_classes()` is deprecated and '\n"
          ],
          "name": "stderr"
        }
      ]
    },
    {
      "cell_type": "code",
      "metadata": {
        "colab": {
          "base_uri": "https://localhost:8080/"
        },
        "id": "S_f8AWQOjbOF",
        "outputId": "caf7d127-d684-43de-d0ff-6631509e49d2"
      },
      "source": [
        "labels_pred"
      ],
      "execution_count": null,
      "outputs": [
        {
          "output_type": "execute_result",
          "data": {
            "text/plain": [
              "array([[0],\n",
              "       [0],\n",
              "       [0],\n",
              "       ...,\n",
              "       [0],\n",
              "       [0],\n",
              "       [0]], dtype=int32)"
            ]
          },
          "metadata": {
            "tags": []
          },
          "execution_count": 53
        }
      ]
    },
    {
      "cell_type": "code",
      "metadata": {
        "colab": {
          "base_uri": "https://localhost:8080/"
        },
        "id": "Wd4vKRToiUbQ",
        "outputId": "bebe9efc-9bd7-4b62-fd1b-cc1325fc741e"
      },
      "source": [
        "\n",
        "\n",
        "len(labels_pred)"
      ],
      "execution_count": null,
      "outputs": [
        {
          "output_type": "execute_result",
          "data": {
            "text/plain": [
              "2000"
            ]
          },
          "metadata": {
            "tags": []
          },
          "execution_count": 54
        }
      ]
    },
    {
      "cell_type": "code",
      "metadata": {
        "colab": {
          "base_uri": "https://localhost:8080/"
        },
        "id": "DNTDpRGgia0m",
        "outputId": "305cd24d-3388-481c-989d-6c0d087881d0"
      },
      "source": [
        "list(zip(labels_test,labels_pred))"
      ],
      "execution_count": null,
      "outputs": [
        {
          "output_type": "execute_result",
          "data": {
            "text/plain": [
              "[(0, array([0], dtype=int32)),\n",
              " (1, array([0], dtype=int32)),\n",
              " (0, array([0], dtype=int32)),\n",
              " (0, array([0], dtype=int32)),\n",
              " (0, array([0], dtype=int32)),\n",
              " (1, array([1], dtype=int32)),\n",
              " (0, array([0], dtype=int32)),\n",
              " (0, array([0], dtype=int32)),\n",
              " (1, array([0], dtype=int32)),\n",
              " (1, array([1], dtype=int32)),\n",
              " (0, array([0], dtype=int32)),\n",
              " (0, array([0], dtype=int32)),\n",
              " (0, array([0], dtype=int32)),\n",
              " (0, array([0], dtype=int32)),\n",
              " (1, array([1], dtype=int32)),\n",
              " (1, array([0], dtype=int32)),\n",
              " (0, array([0], dtype=int32)),\n",
              " (0, array([0], dtype=int32)),\n",
              " (0, array([0], dtype=int32)),\n",
              " (0, array([0], dtype=int32)),\n",
              " (0, array([1], dtype=int32)),\n",
              " (0, array([0], dtype=int32)),\n",
              " (0, array([0], dtype=int32)),\n",
              " (0, array([0], dtype=int32)),\n",
              " (0, array([0], dtype=int32)),\n",
              " (0, array([0], dtype=int32)),\n",
              " (0, array([0], dtype=int32)),\n",
              " (0, array([0], dtype=int32)),\n",
              " (0, array([0], dtype=int32)),\n",
              " (0, array([0], dtype=int32)),\n",
              " (0, array([0], dtype=int32)),\n",
              " (1, array([0], dtype=int32)),\n",
              " (0, array([0], dtype=int32)),\n",
              " (0, array([0], dtype=int32)),\n",
              " (0, array([0], dtype=int32)),\n",
              " (0, array([0], dtype=int32)),\n",
              " (0, array([0], dtype=int32)),\n",
              " (0, array([0], dtype=int32)),\n",
              " (0, array([0], dtype=int32)),\n",
              " (0, array([0], dtype=int32)),\n",
              " (0, array([0], dtype=int32)),\n",
              " (1, array([0], dtype=int32)),\n",
              " (1, array([0], dtype=int32)),\n",
              " (0, array([0], dtype=int32)),\n",
              " (0, array([1], dtype=int32)),\n",
              " (0, array([0], dtype=int32)),\n",
              " (0, array([0], dtype=int32)),\n",
              " (0, array([0], dtype=int32)),\n",
              " (0, array([0], dtype=int32)),\n",
              " (0, array([0], dtype=int32)),\n",
              " (1, array([1], dtype=int32)),\n",
              " (0, array([0], dtype=int32)),\n",
              " (0, array([0], dtype=int32)),\n",
              " (0, array([0], dtype=int32)),\n",
              " (0, array([0], dtype=int32)),\n",
              " (0, array([0], dtype=int32)),\n",
              " (0, array([0], dtype=int32)),\n",
              " (0, array([0], dtype=int32)),\n",
              " (1, array([1], dtype=int32)),\n",
              " (1, array([0], dtype=int32)),\n",
              " (0, array([0], dtype=int32)),\n",
              " (0, array([0], dtype=int32)),\n",
              " (0, array([0], dtype=int32)),\n",
              " (1, array([0], dtype=int32)),\n",
              " (1, array([1], dtype=int32)),\n",
              " (1, array([1], dtype=int32)),\n",
              " (0, array([0], dtype=int32)),\n",
              " (0, array([0], dtype=int32)),\n",
              " (0, array([0], dtype=int32)),\n",
              " (1, array([1], dtype=int32)),\n",
              " (0, array([1], dtype=int32)),\n",
              " (0, array([0], dtype=int32)),\n",
              " (0, array([0], dtype=int32)),\n",
              " (1, array([1], dtype=int32)),\n",
              " (1, array([0], dtype=int32)),\n",
              " (0, array([0], dtype=int32)),\n",
              " (1, array([1], dtype=int32)),\n",
              " (0, array([0], dtype=int32)),\n",
              " (0, array([0], dtype=int32)),\n",
              " (0, array([0], dtype=int32)),\n",
              " (1, array([1], dtype=int32)),\n",
              " (1, array([0], dtype=int32)),\n",
              " (0, array([0], dtype=int32)),\n",
              " (0, array([0], dtype=int32)),\n",
              " (1, array([1], dtype=int32)),\n",
              " (0, array([0], dtype=int32)),\n",
              " (0, array([0], dtype=int32)),\n",
              " (0, array([0], dtype=int32)),\n",
              " (1, array([0], dtype=int32)),\n",
              " (0, array([0], dtype=int32)),\n",
              " (0, array([0], dtype=int32)),\n",
              " (0, array([1], dtype=int32)),\n",
              " (0, array([0], dtype=int32)),\n",
              " (1, array([0], dtype=int32)),\n",
              " (0, array([0], dtype=int32)),\n",
              " (1, array([0], dtype=int32)),\n",
              " (0, array([0], dtype=int32)),\n",
              " (0, array([0], dtype=int32)),\n",
              " (0, array([0], dtype=int32)),\n",
              " (0, array([0], dtype=int32)),\n",
              " (0, array([0], dtype=int32)),\n",
              " (0, array([0], dtype=int32)),\n",
              " (0, array([0], dtype=int32)),\n",
              " (0, array([0], dtype=int32)),\n",
              " (0, array([0], dtype=int32)),\n",
              " (0, array([0], dtype=int32)),\n",
              " (0, array([0], dtype=int32)),\n",
              " (1, array([0], dtype=int32)),\n",
              " (0, array([0], dtype=int32)),\n",
              " (0, array([0], dtype=int32)),\n",
              " (0, array([0], dtype=int32)),\n",
              " (1, array([1], dtype=int32)),\n",
              " (1, array([0], dtype=int32)),\n",
              " (0, array([0], dtype=int32)),\n",
              " (1, array([1], dtype=int32)),\n",
              " (0, array([0], dtype=int32)),\n",
              " (0, array([0], dtype=int32)),\n",
              " (0, array([0], dtype=int32)),\n",
              " (0, array([0], dtype=int32)),\n",
              " (0, array([0], dtype=int32)),\n",
              " (1, array([0], dtype=int32)),\n",
              " (0, array([0], dtype=int32)),\n",
              " (1, array([1], dtype=int32)),\n",
              " (0, array([0], dtype=int32)),\n",
              " (0, array([0], dtype=int32)),\n",
              " (1, array([1], dtype=int32)),\n",
              " (0, array([1], dtype=int32)),\n",
              " (0, array([0], dtype=int32)),\n",
              " (0, array([0], dtype=int32)),\n",
              " (1, array([0], dtype=int32)),\n",
              " (0, array([0], dtype=int32)),\n",
              " (0, array([0], dtype=int32)),\n",
              " (0, array([0], dtype=int32)),\n",
              " (0, array([0], dtype=int32)),\n",
              " (0, array([0], dtype=int32)),\n",
              " (0, array([0], dtype=int32)),\n",
              " (0, array([0], dtype=int32)),\n",
              " (1, array([0], dtype=int32)),\n",
              " (0, array([0], dtype=int32)),\n",
              " (0, array([0], dtype=int32)),\n",
              " (0, array([0], dtype=int32)),\n",
              " (0, array([0], dtype=int32)),\n",
              " (1, array([0], dtype=int32)),\n",
              " (0, array([0], dtype=int32)),\n",
              " (0, array([0], dtype=int32)),\n",
              " (1, array([1], dtype=int32)),\n",
              " (0, array([0], dtype=int32)),\n",
              " (1, array([0], dtype=int32)),\n",
              " (0, array([0], dtype=int32)),\n",
              " (1, array([1], dtype=int32)),\n",
              " (0, array([0], dtype=int32)),\n",
              " (0, array([0], dtype=int32)),\n",
              " (0, array([0], dtype=int32)),\n",
              " (0, array([0], dtype=int32)),\n",
              " (1, array([1], dtype=int32)),\n",
              " (1, array([1], dtype=int32)),\n",
              " (1, array([0], dtype=int32)),\n",
              " (0, array([0], dtype=int32)),\n",
              " (0, array([0], dtype=int32)),\n",
              " (0, array([0], dtype=int32)),\n",
              " (0, array([0], dtype=int32)),\n",
              " (0, array([0], dtype=int32)),\n",
              " (0, array([0], dtype=int32)),\n",
              " (0, array([0], dtype=int32)),\n",
              " (0, array([0], dtype=int32)),\n",
              " (0, array([0], dtype=int32)),\n",
              " (0, array([0], dtype=int32)),\n",
              " (0, array([0], dtype=int32)),\n",
              " (0, array([1], dtype=int32)),\n",
              " (0, array([0], dtype=int32)),\n",
              " (0, array([0], dtype=int32)),\n",
              " (0, array([0], dtype=int32)),\n",
              " (0, array([0], dtype=int32)),\n",
              " (1, array([0], dtype=int32)),\n",
              " (1, array([0], dtype=int32)),\n",
              " (0, array([0], dtype=int32)),\n",
              " (0, array([0], dtype=int32)),\n",
              " (0, array([0], dtype=int32)),\n",
              " (0, array([0], dtype=int32)),\n",
              " (0, array([0], dtype=int32)),\n",
              " (0, array([0], dtype=int32)),\n",
              " (0, array([0], dtype=int32)),\n",
              " (1, array([1], dtype=int32)),\n",
              " (1, array([0], dtype=int32)),\n",
              " (0, array([0], dtype=int32)),\n",
              " (1, array([0], dtype=int32)),\n",
              " (0, array([0], dtype=int32)),\n",
              " (0, array([0], dtype=int32)),\n",
              " (0, array([0], dtype=int32)),\n",
              " (0, array([0], dtype=int32)),\n",
              " (1, array([1], dtype=int32)),\n",
              " (0, array([0], dtype=int32)),\n",
              " (0, array([0], dtype=int32)),\n",
              " (0, array([0], dtype=int32)),\n",
              " (0, array([0], dtype=int32)),\n",
              " (0, array([0], dtype=int32)),\n",
              " (0, array([0], dtype=int32)),\n",
              " (1, array([1], dtype=int32)),\n",
              " (0, array([0], dtype=int32)),\n",
              " (0, array([0], dtype=int32)),\n",
              " (0, array([0], dtype=int32)),\n",
              " (0, array([0], dtype=int32)),\n",
              " (0, array([0], dtype=int32)),\n",
              " (0, array([1], dtype=int32)),\n",
              " (0, array([0], dtype=int32)),\n",
              " (0, array([0], dtype=int32)),\n",
              " (0, array([0], dtype=int32)),\n",
              " (0, array([0], dtype=int32)),\n",
              " (0, array([0], dtype=int32)),\n",
              " (0, array([0], dtype=int32)),\n",
              " (0, array([0], dtype=int32)),\n",
              " (0, array([0], dtype=int32)),\n",
              " (1, array([1], dtype=int32)),\n",
              " (1, array([1], dtype=int32)),\n",
              " (0, array([0], dtype=int32)),\n",
              " (0, array([0], dtype=int32)),\n",
              " (0, array([0], dtype=int32)),\n",
              " (0, array([0], dtype=int32)),\n",
              " (0, array([0], dtype=int32)),\n",
              " (1, array([0], dtype=int32)),\n",
              " (0, array([0], dtype=int32)),\n",
              " (0, array([0], dtype=int32)),\n",
              " (0, array([0], dtype=int32)),\n",
              " (0, array([0], dtype=int32)),\n",
              " (0, array([0], dtype=int32)),\n",
              " (0, array([0], dtype=int32)),\n",
              " (0, array([0], dtype=int32)),\n",
              " (0, array([0], dtype=int32)),\n",
              " (0, array([0], dtype=int32)),\n",
              " (0, array([1], dtype=int32)),\n",
              " (1, array([0], dtype=int32)),\n",
              " (0, array([0], dtype=int32)),\n",
              " (0, array([0], dtype=int32)),\n",
              " (0, array([0], dtype=int32)),\n",
              " (0, array([0], dtype=int32)),\n",
              " (0, array([0], dtype=int32)),\n",
              " (0, array([0], dtype=int32)),\n",
              " (0, array([0], dtype=int32)),\n",
              " (0, array([0], dtype=int32)),\n",
              " (0, array([0], dtype=int32)),\n",
              " (0, array([0], dtype=int32)),\n",
              " (0, array([0], dtype=int32)),\n",
              " (0, array([0], dtype=int32)),\n",
              " (1, array([0], dtype=int32)),\n",
              " (0, array([0], dtype=int32)),\n",
              " (0, array([0], dtype=int32)),\n",
              " (0, array([0], dtype=int32)),\n",
              " (1, array([0], dtype=int32)),\n",
              " (0, array([0], dtype=int32)),\n",
              " (0, array([0], dtype=int32)),\n",
              " (0, array([0], dtype=int32)),\n",
              " (1, array([1], dtype=int32)),\n",
              " (0, array([0], dtype=int32)),\n",
              " (1, array([1], dtype=int32)),\n",
              " (0, array([0], dtype=int32)),\n",
              " (0, array([0], dtype=int32)),\n",
              " (0, array([0], dtype=int32)),\n",
              " (0, array([0], dtype=int32)),\n",
              " (0, array([0], dtype=int32)),\n",
              " (0, array([0], dtype=int32)),\n",
              " (0, array([0], dtype=int32)),\n",
              " (0, array([0], dtype=int32)),\n",
              " (0, array([0], dtype=int32)),\n",
              " (0, array([0], dtype=int32)),\n",
              " (0, array([0], dtype=int32)),\n",
              " (0, array([0], dtype=int32)),\n",
              " (0, array([0], dtype=int32)),\n",
              " (1, array([0], dtype=int32)),\n",
              " (0, array([0], dtype=int32)),\n",
              " (0, array([0], dtype=int32)),\n",
              " (0, array([0], dtype=int32)),\n",
              " (0, array([0], dtype=int32)),\n",
              " (0, array([0], dtype=int32)),\n",
              " (1, array([1], dtype=int32)),\n",
              " (1, array([0], dtype=int32)),\n",
              " (1, array([0], dtype=int32)),\n",
              " (0, array([0], dtype=int32)),\n",
              " (0, array([0], dtype=int32)),\n",
              " (0, array([0], dtype=int32)),\n",
              " (0, array([1], dtype=int32)),\n",
              " (0, array([0], dtype=int32)),\n",
              " (0, array([0], dtype=int32)),\n",
              " (0, array([0], dtype=int32)),\n",
              " (0, array([0], dtype=int32)),\n",
              " (0, array([0], dtype=int32)),\n",
              " (0, array([0], dtype=int32)),\n",
              " (0, array([0], dtype=int32)),\n",
              " (1, array([0], dtype=int32)),\n",
              " (0, array([0], dtype=int32)),\n",
              " (1, array([0], dtype=int32)),\n",
              " (0, array([0], dtype=int32)),\n",
              " (0, array([0], dtype=int32)),\n",
              " (0, array([0], dtype=int32)),\n",
              " (0, array([0], dtype=int32)),\n",
              " (0, array([0], dtype=int32)),\n",
              " (0, array([0], dtype=int32)),\n",
              " (0, array([0], dtype=int32)),\n",
              " (0, array([0], dtype=int32)),\n",
              " (0, array([0], dtype=int32)),\n",
              " (1, array([0], dtype=int32)),\n",
              " (0, array([0], dtype=int32)),\n",
              " (0, array([0], dtype=int32)),\n",
              " (0, array([0], dtype=int32)),\n",
              " (0, array([0], dtype=int32)),\n",
              " (0, array([0], dtype=int32)),\n",
              " (0, array([1], dtype=int32)),\n",
              " (0, array([0], dtype=int32)),\n",
              " (0, array([0], dtype=int32)),\n",
              " (1, array([1], dtype=int32)),\n",
              " (0, array([0], dtype=int32)),\n",
              " (0, array([0], dtype=int32)),\n",
              " (0, array([0], dtype=int32)),\n",
              " (1, array([0], dtype=int32)),\n",
              " (0, array([0], dtype=int32)),\n",
              " (0, array([0], dtype=int32)),\n",
              " (0, array([1], dtype=int32)),\n",
              " (0, array([0], dtype=int32)),\n",
              " (1, array([0], dtype=int32)),\n",
              " (1, array([0], dtype=int32)),\n",
              " (0, array([0], dtype=int32)),\n",
              " (1, array([1], dtype=int32)),\n",
              " (0, array([0], dtype=int32)),\n",
              " (0, array([0], dtype=int32)),\n",
              " (1, array([1], dtype=int32)),\n",
              " (0, array([0], dtype=int32)),\n",
              " (0, array([0], dtype=int32)),\n",
              " (0, array([0], dtype=int32)),\n",
              " (0, array([0], dtype=int32)),\n",
              " (0, array([0], dtype=int32)),\n",
              " (0, array([0], dtype=int32)),\n",
              " (0, array([0], dtype=int32)),\n",
              " (0, array([0], dtype=int32)),\n",
              " (0, array([0], dtype=int32)),\n",
              " (0, array([0], dtype=int32)),\n",
              " (0, array([0], dtype=int32)),\n",
              " (0, array([0], dtype=int32)),\n",
              " (0, array([0], dtype=int32)),\n",
              " (0, array([0], dtype=int32)),\n",
              " (0, array([0], dtype=int32)),\n",
              " (0, array([0], dtype=int32)),\n",
              " (0, array([0], dtype=int32)),\n",
              " (1, array([1], dtype=int32)),\n",
              " (0, array([0], dtype=int32)),\n",
              " (1, array([1], dtype=int32)),\n",
              " (0, array([0], dtype=int32)),\n",
              " (1, array([1], dtype=int32)),\n",
              " (0, array([0], dtype=int32)),\n",
              " (1, array([0], dtype=int32)),\n",
              " (0, array([0], dtype=int32)),\n",
              " (0, array([0], dtype=int32)),\n",
              " (0, array([0], dtype=int32)),\n",
              " (0, array([0], dtype=int32)),\n",
              " (0, array([0], dtype=int32)),\n",
              " (1, array([0], dtype=int32)),\n",
              " (0, array([0], dtype=int32)),\n",
              " (1, array([0], dtype=int32)),\n",
              " (1, array([0], dtype=int32)),\n",
              " (0, array([0], dtype=int32)),\n",
              " (0, array([0], dtype=int32)),\n",
              " (0, array([0], dtype=int32)),\n",
              " (0, array([0], dtype=int32)),\n",
              " (0, array([0], dtype=int32)),\n",
              " (0, array([0], dtype=int32)),\n",
              " (1, array([0], dtype=int32)),\n",
              " (1, array([1], dtype=int32)),\n",
              " (1, array([1], dtype=int32)),\n",
              " (0, array([0], dtype=int32)),\n",
              " (1, array([1], dtype=int32)),\n",
              " (0, array([0], dtype=int32)),\n",
              " (0, array([0], dtype=int32)),\n",
              " (0, array([0], dtype=int32)),\n",
              " (0, array([0], dtype=int32)),\n",
              " (0, array([0], dtype=int32)),\n",
              " (0, array([0], dtype=int32)),\n",
              " (0, array([0], dtype=int32)),\n",
              " (0, array([0], dtype=int32)),\n",
              " (0, array([0], dtype=int32)),\n",
              " (1, array([1], dtype=int32)),\n",
              " (0, array([0], dtype=int32)),\n",
              " (0, array([0], dtype=int32)),\n",
              " (0, array([0], dtype=int32)),\n",
              " (0, array([0], dtype=int32)),\n",
              " (0, array([0], dtype=int32)),\n",
              " (0, array([0], dtype=int32)),\n",
              " (0, array([0], dtype=int32)),\n",
              " (0, array([0], dtype=int32)),\n",
              " (1, array([1], dtype=int32)),\n",
              " (0, array([1], dtype=int32)),\n",
              " (1, array([1], dtype=int32)),\n",
              " (1, array([0], dtype=int32)),\n",
              " (0, array([0], dtype=int32)),\n",
              " (0, array([0], dtype=int32)),\n",
              " (0, array([0], dtype=int32)),\n",
              " (0, array([0], dtype=int32)),\n",
              " (0, array([0], dtype=int32)),\n",
              " (0, array([0], dtype=int32)),\n",
              " (0, array([0], dtype=int32)),\n",
              " (0, array([0], dtype=int32)),\n",
              " (0, array([0], dtype=int32)),\n",
              " (0, array([0], dtype=int32)),\n",
              " (0, array([0], dtype=int32)),\n",
              " (1, array([0], dtype=int32)),\n",
              " (0, array([0], dtype=int32)),\n",
              " (0, array([0], dtype=int32)),\n",
              " (0, array([0], dtype=int32)),\n",
              " (1, array([1], dtype=int32)),\n",
              " (0, array([0], dtype=int32)),\n",
              " (0, array([0], dtype=int32)),\n",
              " (0, array([0], dtype=int32)),\n",
              " (0, array([0], dtype=int32)),\n",
              " (0, array([0], dtype=int32)),\n",
              " (0, array([0], dtype=int32)),\n",
              " (0, array([0], dtype=int32)),\n",
              " (0, array([0], dtype=int32)),\n",
              " (0, array([0], dtype=int32)),\n",
              " (0, array([0], dtype=int32)),\n",
              " (1, array([0], dtype=int32)),\n",
              " (0, array([0], dtype=int32)),\n",
              " (0, array([0], dtype=int32)),\n",
              " (0, array([0], dtype=int32)),\n",
              " (0, array([0], dtype=int32)),\n",
              " (1, array([0], dtype=int32)),\n",
              " (0, array([0], dtype=int32)),\n",
              " (0, array([0], dtype=int32)),\n",
              " (0, array([0], dtype=int32)),\n",
              " (0, array([0], dtype=int32)),\n",
              " (0, array([0], dtype=int32)),\n",
              " (0, array([0], dtype=int32)),\n",
              " (0, array([0], dtype=int32)),\n",
              " (0, array([0], dtype=int32)),\n",
              " (0, array([0], dtype=int32)),\n",
              " (0, array([0], dtype=int32)),\n",
              " (1, array([1], dtype=int32)),\n",
              " (0, array([0], dtype=int32)),\n",
              " (1, array([1], dtype=int32)),\n",
              " (0, array([0], dtype=int32)),\n",
              " (0, array([1], dtype=int32)),\n",
              " (0, array([0], dtype=int32)),\n",
              " (0, array([0], dtype=int32)),\n",
              " (0, array([0], dtype=int32)),\n",
              " (0, array([0], dtype=int32)),\n",
              " (0, array([0], dtype=int32)),\n",
              " (0, array([0], dtype=int32)),\n",
              " (0, array([0], dtype=int32)),\n",
              " (0, array([0], dtype=int32)),\n",
              " (0, array([0], dtype=int32)),\n",
              " (0, array([0], dtype=int32)),\n",
              " (0, array([0], dtype=int32)),\n",
              " (0, array([0], dtype=int32)),\n",
              " (0, array([0], dtype=int32)),\n",
              " (0, array([0], dtype=int32)),\n",
              " (0, array([0], dtype=int32)),\n",
              " (1, array([1], dtype=int32)),\n",
              " (0, array([0], dtype=int32)),\n",
              " (0, array([1], dtype=int32)),\n",
              " (0, array([0], dtype=int32)),\n",
              " (0, array([0], dtype=int32)),\n",
              " (0, array([0], dtype=int32)),\n",
              " (0, array([0], dtype=int32)),\n",
              " (0, array([0], dtype=int32)),\n",
              " (0, array([0], dtype=int32)),\n",
              " (0, array([0], dtype=int32)),\n",
              " (0, array([0], dtype=int32)),\n",
              " (0, array([0], dtype=int32)),\n",
              " (0, array([0], dtype=int32)),\n",
              " (1, array([1], dtype=int32)),\n",
              " (0, array([0], dtype=int32)),\n",
              " (1, array([1], dtype=int32)),\n",
              " (0, array([0], dtype=int32)),\n",
              " (0, array([0], dtype=int32)),\n",
              " (0, array([0], dtype=int32)),\n",
              " (0, array([0], dtype=int32)),\n",
              " (0, array([0], dtype=int32)),\n",
              " (1, array([1], dtype=int32)),\n",
              " (0, array([0], dtype=int32)),\n",
              " (0, array([0], dtype=int32)),\n",
              " (0, array([0], dtype=int32)),\n",
              " (0, array([0], dtype=int32)),\n",
              " (0, array([0], dtype=int32)),\n",
              " (1, array([0], dtype=int32)),\n",
              " (0, array([0], dtype=int32)),\n",
              " (0, array([1], dtype=int32)),\n",
              " (0, array([0], dtype=int32)),\n",
              " (0, array([0], dtype=int32)),\n",
              " (0, array([0], dtype=int32)),\n",
              " (1, array([1], dtype=int32)),\n",
              " (0, array([0], dtype=int32)),\n",
              " (0, array([0], dtype=int32)),\n",
              " (1, array([0], dtype=int32)),\n",
              " (0, array([0], dtype=int32)),\n",
              " (1, array([1], dtype=int32)),\n",
              " (1, array([0], dtype=int32)),\n",
              " (0, array([0], dtype=int32)),\n",
              " (0, array([0], dtype=int32)),\n",
              " (0, array([0], dtype=int32)),\n",
              " (0, array([0], dtype=int32)),\n",
              " (0, array([0], dtype=int32)),\n",
              " (0, array([0], dtype=int32)),\n",
              " (0, array([0], dtype=int32)),\n",
              " (0, array([0], dtype=int32)),\n",
              " (0, array([0], dtype=int32)),\n",
              " (1, array([0], dtype=int32)),\n",
              " (0, array([1], dtype=int32)),\n",
              " (0, array([0], dtype=int32)),\n",
              " (1, array([1], dtype=int32)),\n",
              " (0, array([0], dtype=int32)),\n",
              " (0, array([0], dtype=int32)),\n",
              " (0, array([0], dtype=int32)),\n",
              " (0, array([0], dtype=int32)),\n",
              " (0, array([0], dtype=int32)),\n",
              " (0, array([0], dtype=int32)),\n",
              " (0, array([0], dtype=int32)),\n",
              " (0, array([0], dtype=int32)),\n",
              " (1, array([1], dtype=int32)),\n",
              " (1, array([0], dtype=int32)),\n",
              " (0, array([0], dtype=int32)),\n",
              " (0, array([0], dtype=int32)),\n",
              " (0, array([0], dtype=int32)),\n",
              " (1, array([0], dtype=int32)),\n",
              " (0, array([0], dtype=int32)),\n",
              " (0, array([0], dtype=int32)),\n",
              " (0, array([0], dtype=int32)),\n",
              " (0, array([0], dtype=int32)),\n",
              " (0, array([0], dtype=int32)),\n",
              " (1, array([0], dtype=int32)),\n",
              " (0, array([0], dtype=int32)),\n",
              " (0, array([0], dtype=int32)),\n",
              " (0, array([0], dtype=int32)),\n",
              " (0, array([0], dtype=int32)),\n",
              " (0, array([0], dtype=int32)),\n",
              " (0, array([0], dtype=int32)),\n",
              " (1, array([1], dtype=int32)),\n",
              " (0, array([0], dtype=int32)),\n",
              " (0, array([0], dtype=int32)),\n",
              " (0, array([0], dtype=int32)),\n",
              " (0, array([0], dtype=int32)),\n",
              " (0, array([0], dtype=int32)),\n",
              " (0, array([0], dtype=int32)),\n",
              " (0, array([0], dtype=int32)),\n",
              " (0, array([0], dtype=int32)),\n",
              " (0, array([0], dtype=int32)),\n",
              " (0, array([0], dtype=int32)),\n",
              " (0, array([0], dtype=int32)),\n",
              " (0, array([0], dtype=int32)),\n",
              " (0, array([0], dtype=int32)),\n",
              " (0, array([0], dtype=int32)),\n",
              " (1, array([0], dtype=int32)),\n",
              " (0, array([0], dtype=int32)),\n",
              " (0, array([0], dtype=int32)),\n",
              " (1, array([0], dtype=int32)),\n",
              " (0, array([0], dtype=int32)),\n",
              " (0, array([0], dtype=int32)),\n",
              " (1, array([0], dtype=int32)),\n",
              " (0, array([0], dtype=int32)),\n",
              " (0, array([0], dtype=int32)),\n",
              " (0, array([1], dtype=int32)),\n",
              " (1, array([0], dtype=int32)),\n",
              " (0, array([0], dtype=int32)),\n",
              " (1, array([0], dtype=int32)),\n",
              " (0, array([0], dtype=int32)),\n",
              " (1, array([0], dtype=int32)),\n",
              " (0, array([0], dtype=int32)),\n",
              " (0, array([0], dtype=int32)),\n",
              " (1, array([1], dtype=int32)),\n",
              " (0, array([0], dtype=int32)),\n",
              " (0, array([0], dtype=int32)),\n",
              " (0, array([0], dtype=int32)),\n",
              " (0, array([0], dtype=int32)),\n",
              " (0, array([0], dtype=int32)),\n",
              " (0, array([0], dtype=int32)),\n",
              " (0, array([0], dtype=int32)),\n",
              " (0, array([0], dtype=int32)),\n",
              " (0, array([0], dtype=int32)),\n",
              " (1, array([0], dtype=int32)),\n",
              " (0, array([0], dtype=int32)),\n",
              " (0, array([0], dtype=int32)),\n",
              " (1, array([1], dtype=int32)),\n",
              " (0, array([1], dtype=int32)),\n",
              " (0, array([0], dtype=int32)),\n",
              " (1, array([0], dtype=int32)),\n",
              " (1, array([1], dtype=int32)),\n",
              " (1, array([0], dtype=int32)),\n",
              " (0, array([0], dtype=int32)),\n",
              " (0, array([0], dtype=int32)),\n",
              " (0, array([0], dtype=int32)),\n",
              " (1, array([0], dtype=int32)),\n",
              " (1, array([0], dtype=int32)),\n",
              " (0, array([0], dtype=int32)),\n",
              " (0, array([0], dtype=int32)),\n",
              " (0, array([0], dtype=int32)),\n",
              " (0, array([0], dtype=int32)),\n",
              " (1, array([1], dtype=int32)),\n",
              " (0, array([0], dtype=int32)),\n",
              " (0, array([0], dtype=int32)),\n",
              " (0, array([0], dtype=int32)),\n",
              " (0, array([0], dtype=int32)),\n",
              " (0, array([0], dtype=int32)),\n",
              " (0, array([0], dtype=int32)),\n",
              " (1, array([1], dtype=int32)),\n",
              " (0, array([0], dtype=int32)),\n",
              " (0, array([0], dtype=int32)),\n",
              " (0, array([0], dtype=int32)),\n",
              " (1, array([0], dtype=int32)),\n",
              " (0, array([0], dtype=int32)),\n",
              " (0, array([0], dtype=int32)),\n",
              " (0, array([0], dtype=int32)),\n",
              " (0, array([0], dtype=int32)),\n",
              " (0, array([0], dtype=int32)),\n",
              " (0, array([1], dtype=int32)),\n",
              " (1, array([0], dtype=int32)),\n",
              " (0, array([0], dtype=int32)),\n",
              " (0, array([0], dtype=int32)),\n",
              " (0, array([0], dtype=int32)),\n",
              " (1, array([1], dtype=int32)),\n",
              " (1, array([1], dtype=int32)),\n",
              " (1, array([0], dtype=int32)),\n",
              " (1, array([1], dtype=int32)),\n",
              " (0, array([0], dtype=int32)),\n",
              " (0, array([0], dtype=int32)),\n",
              " (1, array([0], dtype=int32)),\n",
              " (0, array([0], dtype=int32)),\n",
              " (0, array([0], dtype=int32)),\n",
              " (0, array([1], dtype=int32)),\n",
              " (0, array([0], dtype=int32)),\n",
              " (1, array([0], dtype=int32)),\n",
              " (0, array([0], dtype=int32)),\n",
              " (0, array([0], dtype=int32)),\n",
              " (0, array([0], dtype=int32)),\n",
              " (0, array([0], dtype=int32)),\n",
              " (0, array([0], dtype=int32)),\n",
              " (0, array([0], dtype=int32)),\n",
              " (1, array([1], dtype=int32)),\n",
              " (0, array([0], dtype=int32)),\n",
              " (1, array([0], dtype=int32)),\n",
              " (0, array([0], dtype=int32)),\n",
              " (0, array([0], dtype=int32)),\n",
              " (0, array([0], dtype=int32)),\n",
              " (0, array([0], dtype=int32)),\n",
              " (0, array([0], dtype=int32)),\n",
              " (1, array([1], dtype=int32)),\n",
              " (0, array([0], dtype=int32)),\n",
              " (0, array([0], dtype=int32)),\n",
              " (0, array([0], dtype=int32)),\n",
              " (1, array([0], dtype=int32)),\n",
              " (0, array([1], dtype=int32)),\n",
              " (0, array([0], dtype=int32)),\n",
              " (0, array([0], dtype=int32)),\n",
              " (0, array([0], dtype=int32)),\n",
              " (0, array([0], dtype=int32)),\n",
              " (0, array([0], dtype=int32)),\n",
              " (0, array([0], dtype=int32)),\n",
              " (0, array([0], dtype=int32)),\n",
              " (0, array([0], dtype=int32)),\n",
              " (0, array([0], dtype=int32)),\n",
              " (0, array([1], dtype=int32)),\n",
              " (0, array([0], dtype=int32)),\n",
              " (0, array([0], dtype=int32)),\n",
              " (1, array([0], dtype=int32)),\n",
              " (0, array([0], dtype=int32)),\n",
              " (0, array([0], dtype=int32)),\n",
              " (0, array([0], dtype=int32)),\n",
              " (0, array([0], dtype=int32)),\n",
              " (0, array([0], dtype=int32)),\n",
              " (0, array([0], dtype=int32)),\n",
              " (1, array([0], dtype=int32)),\n",
              " (1, array([0], dtype=int32)),\n",
              " (0, array([0], dtype=int32)),\n",
              " (0, array([0], dtype=int32)),\n",
              " (0, array([0], dtype=int32)),\n",
              " (0, array([0], dtype=int32)),\n",
              " (0, array([0], dtype=int32)),\n",
              " (0, array([0], dtype=int32)),\n",
              " (0, array([0], dtype=int32)),\n",
              " (0, array([0], dtype=int32)),\n",
              " (0, array([0], dtype=int32)),\n",
              " (1, array([0], dtype=int32)),\n",
              " (0, array([0], dtype=int32)),\n",
              " (0, array([0], dtype=int32)),\n",
              " (0, array([0], dtype=int32)),\n",
              " (0, array([0], dtype=int32)),\n",
              " (0, array([0], dtype=int32)),\n",
              " (1, array([0], dtype=int32)),\n",
              " (0, array([1], dtype=int32)),\n",
              " (1, array([0], dtype=int32)),\n",
              " (0, array([0], dtype=int32)),\n",
              " (0, array([0], dtype=int32)),\n",
              " (0, array([1], dtype=int32)),\n",
              " (0, array([0], dtype=int32)),\n",
              " (0, array([1], dtype=int32)),\n",
              " (0, array([0], dtype=int32)),\n",
              " (0, array([0], dtype=int32)),\n",
              " (0, array([0], dtype=int32)),\n",
              " (1, array([0], dtype=int32)),\n",
              " (0, array([0], dtype=int32)),\n",
              " (0, array([0], dtype=int32)),\n",
              " (0, array([0], dtype=int32)),\n",
              " (0, array([0], dtype=int32)),\n",
              " (0, array([0], dtype=int32)),\n",
              " (1, array([0], dtype=int32)),\n",
              " (0, array([0], dtype=int32)),\n",
              " (1, array([0], dtype=int32)),\n",
              " (0, array([0], dtype=int32)),\n",
              " (1, array([1], dtype=int32)),\n",
              " (0, array([0], dtype=int32)),\n",
              " (0, array([0], dtype=int32)),\n",
              " (0, array([0], dtype=int32)),\n",
              " (1, array([0], dtype=int32)),\n",
              " (0, array([0], dtype=int32)),\n",
              " (1, array([0], dtype=int32)),\n",
              " (1, array([0], dtype=int32)),\n",
              " (0, array([0], dtype=int32)),\n",
              " (0, array([0], dtype=int32)),\n",
              " (1, array([1], dtype=int32)),\n",
              " (0, array([0], dtype=int32)),\n",
              " (0, array([0], dtype=int32)),\n",
              " (0, array([0], dtype=int32)),\n",
              " (0, array([0], dtype=int32)),\n",
              " (0, array([0], dtype=int32)),\n",
              " (0, array([0], dtype=int32)),\n",
              " (0, array([0], dtype=int32)),\n",
              " (0, array([1], dtype=int32)),\n",
              " (0, array([0], dtype=int32)),\n",
              " (1, array([1], dtype=int32)),\n",
              " (0, array([0], dtype=int32)),\n",
              " (1, array([0], dtype=int32)),\n",
              " (0, array([0], dtype=int32)),\n",
              " (0, array([0], dtype=int32)),\n",
              " (0, array([0], dtype=int32)),\n",
              " (0, array([0], dtype=int32)),\n",
              " (0, array([0], dtype=int32)),\n",
              " (0, array([0], dtype=int32)),\n",
              " (0, array([0], dtype=int32)),\n",
              " (1, array([0], dtype=int32)),\n",
              " (1, array([0], dtype=int32)),\n",
              " (0, array([0], dtype=int32)),\n",
              " (0, array([0], dtype=int32)),\n",
              " (1, array([1], dtype=int32)),\n",
              " (0, array([0], dtype=int32)),\n",
              " (0, array([0], dtype=int32)),\n",
              " (0, array([0], dtype=int32)),\n",
              " (1, array([0], dtype=int32)),\n",
              " (1, array([0], dtype=int32)),\n",
              " (0, array([0], dtype=int32)),\n",
              " (0, array([0], dtype=int32)),\n",
              " (1, array([0], dtype=int32)),\n",
              " (0, array([0], dtype=int32)),\n",
              " (0, array([0], dtype=int32)),\n",
              " (0, array([0], dtype=int32)),\n",
              " (0, array([0], dtype=int32)),\n",
              " (0, array([0], dtype=int32)),\n",
              " (0, array([0], dtype=int32)),\n",
              " (0, array([1], dtype=int32)),\n",
              " (0, array([0], dtype=int32)),\n",
              " (0, array([0], dtype=int32)),\n",
              " (0, array([0], dtype=int32)),\n",
              " (0, array([0], dtype=int32)),\n",
              " (0, array([0], dtype=int32)),\n",
              " (0, array([0], dtype=int32)),\n",
              " (1, array([0], dtype=int32)),\n",
              " (0, array([0], dtype=int32)),\n",
              " (0, array([0], dtype=int32)),\n",
              " (0, array([0], dtype=int32)),\n",
              " (1, array([1], dtype=int32)),\n",
              " (1, array([0], dtype=int32)),\n",
              " (0, array([1], dtype=int32)),\n",
              " (0, array([0], dtype=int32)),\n",
              " (0, array([0], dtype=int32)),\n",
              " (1, array([0], dtype=int32)),\n",
              " (0, array([0], dtype=int32)),\n",
              " (0, array([0], dtype=int32)),\n",
              " (0, array([0], dtype=int32)),\n",
              " (0, array([0], dtype=int32)),\n",
              " (1, array([0], dtype=int32)),\n",
              " (0, array([1], dtype=int32)),\n",
              " (0, array([0], dtype=int32)),\n",
              " (0, array([0], dtype=int32)),\n",
              " (0, array([0], dtype=int32)),\n",
              " (0, array([0], dtype=int32)),\n",
              " (0, array([0], dtype=int32)),\n",
              " (1, array([0], dtype=int32)),\n",
              " (0, array([0], dtype=int32)),\n",
              " (0, array([0], dtype=int32)),\n",
              " (0, array([0], dtype=int32)),\n",
              " (1, array([0], dtype=int32)),\n",
              " (0, array([0], dtype=int32)),\n",
              " (0, array([0], dtype=int32)),\n",
              " (0, array([0], dtype=int32)),\n",
              " (1, array([1], dtype=int32)),\n",
              " (0, array([0], dtype=int32)),\n",
              " (0, array([0], dtype=int32)),\n",
              " (0, array([0], dtype=int32)),\n",
              " (0, array([0], dtype=int32)),\n",
              " (0, array([0], dtype=int32)),\n",
              " (0, array([1], dtype=int32)),\n",
              " (1, array([1], dtype=int32)),\n",
              " (1, array([1], dtype=int32)),\n",
              " (0, array([0], dtype=int32)),\n",
              " (0, array([0], dtype=int32)),\n",
              " (0, array([0], dtype=int32)),\n",
              " (0, array([0], dtype=int32)),\n",
              " (0, array([0], dtype=int32)),\n",
              " (0, array([0], dtype=int32)),\n",
              " (0, array([0], dtype=int32)),\n",
              " (0, array([0], dtype=int32)),\n",
              " (1, array([0], dtype=int32)),\n",
              " (0, array([0], dtype=int32)),\n",
              " (0, array([0], dtype=int32)),\n",
              " (0, array([0], dtype=int32)),\n",
              " (0, array([0], dtype=int32)),\n",
              " (1, array([0], dtype=int32)),\n",
              " (0, array([0], dtype=int32)),\n",
              " (0, array([0], dtype=int32)),\n",
              " (0, array([0], dtype=int32)),\n",
              " (0, array([0], dtype=int32)),\n",
              " (0, array([0], dtype=int32)),\n",
              " (1, array([0], dtype=int32)),\n",
              " (0, array([0], dtype=int32)),\n",
              " (0, array([0], dtype=int32)),\n",
              " (0, array([0], dtype=int32)),\n",
              " (0, array([0], dtype=int32)),\n",
              " (0, array([0], dtype=int32)),\n",
              " (1, array([1], dtype=int32)),\n",
              " (0, array([0], dtype=int32)),\n",
              " (0, array([0], dtype=int32)),\n",
              " (0, array([0], dtype=int32)),\n",
              " (0, array([0], dtype=int32)),\n",
              " (0, array([0], dtype=int32)),\n",
              " (0, array([1], dtype=int32)),\n",
              " (0, array([1], dtype=int32)),\n",
              " (0, array([0], dtype=int32)),\n",
              " (0, array([0], dtype=int32)),\n",
              " (0, array([0], dtype=int32)),\n",
              " (0, array([0], dtype=int32)),\n",
              " (1, array([0], dtype=int32)),\n",
              " (0, array([0], dtype=int32)),\n",
              " (0, array([0], dtype=int32)),\n",
              " (0, array([0], dtype=int32)),\n",
              " (0, array([0], dtype=int32)),\n",
              " (0, array([0], dtype=int32)),\n",
              " (0, array([0], dtype=int32)),\n",
              " (0, array([0], dtype=int32)),\n",
              " (0, array([0], dtype=int32)),\n",
              " (0, array([0], dtype=int32)),\n",
              " (0, array([0], dtype=int32)),\n",
              " (0, array([0], dtype=int32)),\n",
              " (0, array([0], dtype=int32)),\n",
              " (0, array([0], dtype=int32)),\n",
              " (0, array([0], dtype=int32)),\n",
              " (0, array([0], dtype=int32)),\n",
              " (1, array([0], dtype=int32)),\n",
              " (0, array([0], dtype=int32)),\n",
              " (0, array([0], dtype=int32)),\n",
              " (0, array([0], dtype=int32)),\n",
              " (0, array([0], dtype=int32)),\n",
              " (0, array([0], dtype=int32)),\n",
              " (0, array([0], dtype=int32)),\n",
              " (1, array([1], dtype=int32)),\n",
              " (0, array([0], dtype=int32)),\n",
              " (0, array([0], dtype=int32)),\n",
              " (0, array([0], dtype=int32)),\n",
              " (1, array([1], dtype=int32)),\n",
              " (0, array([0], dtype=int32)),\n",
              " (0, array([0], dtype=int32)),\n",
              " (0, array([0], dtype=int32)),\n",
              " (0, array([0], dtype=int32)),\n",
              " (0, array([0], dtype=int32)),\n",
              " (0, array([0], dtype=int32)),\n",
              " (0, array([0], dtype=int32)),\n",
              " (1, array([0], dtype=int32)),\n",
              " (0, array([0], dtype=int32)),\n",
              " (0, array([0], dtype=int32)),\n",
              " (0, array([0], dtype=int32)),\n",
              " (0, array([0], dtype=int32)),\n",
              " (0, array([0], dtype=int32)),\n",
              " (0, array([0], dtype=int32)),\n",
              " (0, array([0], dtype=int32)),\n",
              " (0, array([0], dtype=int32)),\n",
              " (0, array([0], dtype=int32)),\n",
              " (0, array([0], dtype=int32)),\n",
              " (1, array([0], dtype=int32)),\n",
              " (0, array([0], dtype=int32)),\n",
              " (0, array([0], dtype=int32)),\n",
              " (0, array([0], dtype=int32)),\n",
              " (0, array([0], dtype=int32)),\n",
              " (0, array([0], dtype=int32)),\n",
              " (0, array([0], dtype=int32)),\n",
              " (0, array([0], dtype=int32)),\n",
              " (0, array([0], dtype=int32)),\n",
              " (1, array([0], dtype=int32)),\n",
              " (0, array([0], dtype=int32)),\n",
              " (1, array([1], dtype=int32)),\n",
              " (1, array([0], dtype=int32)),\n",
              " (1, array([0], dtype=int32)),\n",
              " (1, array([0], dtype=int32)),\n",
              " (1, array([1], dtype=int32)),\n",
              " (0, array([0], dtype=int32)),\n",
              " (0, array([0], dtype=int32)),\n",
              " (1, array([0], dtype=int32)),\n",
              " (0, array([0], dtype=int32)),\n",
              " (0, array([0], dtype=int32)),\n",
              " (1, array([0], dtype=int32)),\n",
              " (0, array([0], dtype=int32)),\n",
              " (1, array([1], dtype=int32)),\n",
              " (0, array([0], dtype=int32)),\n",
              " (0, array([0], dtype=int32)),\n",
              " (0, array([0], dtype=int32)),\n",
              " (0, array([0], dtype=int32)),\n",
              " (0, array([0], dtype=int32)),\n",
              " (0, array([0], dtype=int32)),\n",
              " (0, array([0], dtype=int32)),\n",
              " (0, array([0], dtype=int32)),\n",
              " (0, array([0], dtype=int32)),\n",
              " (0, array([0], dtype=int32)),\n",
              " (1, array([1], dtype=int32)),\n",
              " (0, array([0], dtype=int32)),\n",
              " (0, array([0], dtype=int32)),\n",
              " (0, array([0], dtype=int32)),\n",
              " (0, array([0], dtype=int32)),\n",
              " (1, array([0], dtype=int32)),\n",
              " (0, array([0], dtype=int32)),\n",
              " (0, array([0], dtype=int32)),\n",
              " (1, array([1], dtype=int32)),\n",
              " (0, array([0], dtype=int32)),\n",
              " (1, array([0], dtype=int32)),\n",
              " (0, array([0], dtype=int32)),\n",
              " (0, array([0], dtype=int32)),\n",
              " (0, array([0], dtype=int32)),\n",
              " (1, array([1], dtype=int32)),\n",
              " (0, array([0], dtype=int32)),\n",
              " (0, array([0], dtype=int32)),\n",
              " (1, array([0], dtype=int32)),\n",
              " (0, array([0], dtype=int32)),\n",
              " (0, array([0], dtype=int32)),\n",
              " (1, array([0], dtype=int32)),\n",
              " (0, array([0], dtype=int32)),\n",
              " (1, array([1], dtype=int32)),\n",
              " (0, array([0], dtype=int32)),\n",
              " (0, array([0], dtype=int32)),\n",
              " (0, array([0], dtype=int32)),\n",
              " (0, array([0], dtype=int32)),\n",
              " (1, array([0], dtype=int32)),\n",
              " (1, array([1], dtype=int32)),\n",
              " (1, array([0], dtype=int32)),\n",
              " (0, array([0], dtype=int32)),\n",
              " (1, array([0], dtype=int32)),\n",
              " (0, array([0], dtype=int32)),\n",
              " (0, array([0], dtype=int32)),\n",
              " (0, array([0], dtype=int32)),\n",
              " (0, array([0], dtype=int32)),\n",
              " (1, array([0], dtype=int32)),\n",
              " (0, array([1], dtype=int32)),\n",
              " (0, array([0], dtype=int32)),\n",
              " (0, array([0], dtype=int32)),\n",
              " (0, array([0], dtype=int32)),\n",
              " (0, array([0], dtype=int32)),\n",
              " (0, array([0], dtype=int32)),\n",
              " (1, array([0], dtype=int32)),\n",
              " (1, array([1], dtype=int32)),\n",
              " (0, array([0], dtype=int32)),\n",
              " (0, array([0], dtype=int32)),\n",
              " (0, array([0], dtype=int32)),\n",
              " (0, array([0], dtype=int32)),\n",
              " (0, array([0], dtype=int32)),\n",
              " (0, array([0], dtype=int32)),\n",
              " (0, array([0], dtype=int32)),\n",
              " (0, array([0], dtype=int32)),\n",
              " (0, array([0], dtype=int32)),\n",
              " (0, array([0], dtype=int32)),\n",
              " (0, array([0], dtype=int32)),\n",
              " (1, array([0], dtype=int32)),\n",
              " (1, array([0], dtype=int32)),\n",
              " (0, array([0], dtype=int32)),\n",
              " (0, array([0], dtype=int32)),\n",
              " (0, array([0], dtype=int32)),\n",
              " (0, array([0], dtype=int32)),\n",
              " (0, array([0], dtype=int32)),\n",
              " (1, array([0], dtype=int32)),\n",
              " (0, array([0], dtype=int32)),\n",
              " (1, array([1], dtype=int32)),\n",
              " (0, array([0], dtype=int32)),\n",
              " (0, array([0], dtype=int32)),\n",
              " (0, array([0], dtype=int32)),\n",
              " (0, array([0], dtype=int32)),\n",
              " (0, array([0], dtype=int32)),\n",
              " (0, array([0], dtype=int32)),\n",
              " (0, array([0], dtype=int32)),\n",
              " (1, array([0], dtype=int32)),\n",
              " (0, array([0], dtype=int32)),\n",
              " (0, array([0], dtype=int32)),\n",
              " (0, array([0], dtype=int32)),\n",
              " (0, array([0], dtype=int32)),\n",
              " (0, array([0], dtype=int32)),\n",
              " (0, array([0], dtype=int32)),\n",
              " (0, array([1], dtype=int32)),\n",
              " (0, array([1], dtype=int32)),\n",
              " (0, array([0], dtype=int32)),\n",
              " (1, array([0], dtype=int32)),\n",
              " (0, array([0], dtype=int32)),\n",
              " (0, array([0], dtype=int32)),\n",
              " (0, array([0], dtype=int32)),\n",
              " ...]"
            ]
          },
          "metadata": {
            "tags": []
          },
          "execution_count": 55
        }
      ]
    },
    {
      "cell_type": "code",
      "metadata": {
        "colab": {
          "base_uri": "https://localhost:8080/"
        },
        "id": "duHlQNsZiovx",
        "outputId": "95e8f47e-dfc7-4302-801b-deebf92410ee"
      },
      "source": [
        "from sklearn.metrics import confusion_matrix\n",
        "cm = confusion_matrix(labels_test, labels_pred)\n",
        "\n",
        "cm"
      ],
      "execution_count": null,
      "outputs": [
        {
          "output_type": "execute_result",
          "data": {
            "text/plain": [
              "array([[1511,   84],\n",
              "       [ 239,  166]])"
            ]
          },
          "metadata": {
            "tags": []
          },
          "execution_count": 56
        }
      ]
    },
    {
      "cell_type": "code",
      "metadata": {
        "id": "IH7BuZ0Hipsa"
      },
      "source": [
        ""
      ],
      "execution_count": null,
      "outputs": []
    },
    {
      "cell_type": "code",
      "metadata": {
        "id": "LC9HRHl1iosX"
      },
      "source": [
        ""
      ],
      "execution_count": null,
      "outputs": []
    }
  ]
}